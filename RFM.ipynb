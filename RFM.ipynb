{
 "cells": [
  {
   "cell_type": "markdown",
   "metadata": {},
   "source": [
    "# Recency, Frequency, Monetary Value (RFM) Analysis\n",
    "\n",
    "by Julianna Renaud\n",
    "\n",
    "## The Project\n",
    "\n",
    "Ranking customers based on their purchase recency, their purchase frequency and their monetary (or lifetime) value with the brand. RFM analysis is a technique that's utilized by marketing departments for customer segmentation. RFM analysis can be useful in identifying high value customers that the business wants to retain, low value and infrequent customers that may be more difficult to convert, and customers that are in various areas between such as those likely to churn and those having the most potential to convert. RFM scores are useful in helping to identify specific groups of target customers for various types of marketing campaigns. By segmenting marketing campaigns, companies can reduce marketing costs and can increase performance for KPIs such as conversion rate.\n",
    "\n",
    "This project utilizes historical purchase data to assign an RFM score to past customers.\n",
    "\n",
    "## The Client\n",
    "\n",
    "The client for this project is a fashion retailer selling selling men's, women's and children's clothing and accessories. This client operates a small number of  This project utilizes data from the client's eCommerce customers.\n",
    "\n",
    "*For confidentiality purposes, the name of this client will remain anonymous. The client will be referred to as “the Client” throughout.*\n",
    "\n",
    "## The Data\n",
    "\n",
    "The client imports purchase data into their Email Service Provider (ESP). For the sake of anonymity, data was pulled using a unique Subscriber ID assigned by the ESP. No Personally Identifiable Information (PII) was utilized. Subscriber ID was utilized in lieu of email address. City and state data were pulled for location of purchase, but not billing or shipping addresses. No payment data was utilized.\n",
    "\n",
    "The purchase data is from 12/29/2011 through 2/2/2018. \n",
    "\n",
    "The Purchase file was pulled using SQL queries from the ESP which provided all purchase details such as Order ID, Product ID (SKU), Subscriber ID (purchaser). The file contained a single row for each SKU purchased in a order and therefore if multiple products were purchased in a single order then there were multiple rows for the same Order ID.\n",
    "\n",
    "## Methodology\n",
    "\n",
    "Traditional RFM methodology scores each of the three metrics (recency, frequency and monetary value) on a 1-4 or 1-5 scale. For this project, a 1-4 score was utilized. Range thresholds were determined using quartiles to provide each customer with a 1-4 score for each of the three metrics. As a result, there are 64 different combinations of RFM scores that a customer could receive. A score of 444 represents the most recent customers, who purchase most frequently and have the highest monetary value. The opposite extreme is represented by a score of 111.\n",
    "\n",
    "### Libraries\n",
    "(those utilized below, additional libraries were utilized in the preparation of the final dataset utilized in the code below)\n",
    "\n",
    "* pandas for: data loading, wrangling, cleaning and manipulation, descriptive statistics\n",
    "* numpy for: array data structure, mathmatical/statistical analysis\n",
    "* matplotlib for: data visualization\n",
    "\n",
    "### Data Wrangling and Cleaning\n",
    "\n",
    "The data came in the form of CSV files which were loaded into pandas dataframes. For confidentiality purposes, much of the data wrangling was performed in a separate notebook. I have noted below the steps that were performed to clean the data and prepare the data into this final dataset. The code below utilizes the clean dataset containing just the Subscriber ID, the recency (in days) of the subscribers most recent purchase, the frequency of purchases made since 12/29/2011. \n",
    "\n",
    "* Date fields required proper formatting.\n",
    "* Pivoting was necessary to create a master file that contained only one row for each Subscriber ID. Some of the data needed to be pivoted and summed (i.e. order value for monetary value and frequency). Some of the data needed to be pivoted and the max value taken (i.e. order date). \n",
    "\n",
    "#### Purchase File: This file originally contained 19 columns.\n",
    "\n",
    "* Only three of the 19 columns contained null data. \n",
    "* The majority of the columns in the file were not necessary for RFM scoring and were dropped.\n",
    "* The purchase date was converted into a date format. The max date was retained when the data was pivoted to create a single row for each Subscriber ID. The recency (in days) was calculated by subtracted the Max purchase date from 2/3/2018 (the day after the most recent purchase on the file).\n",
    "* Monetary value and Frequency were calculated by deduplicating the file by Order ID, then summing the Order Value (for Monetary Value) and counting the number of unique Order IDs (frequency).\n",
    "\n",
    "## Results\n",
    "\n",
    "The dataset for this client turned out to be heavily skewed to single purchasers. As a result, the frequency scores turned out to be 1, 3, 4 resulting in only 48 possible scores. The breakdown of thresholds and counts are as follows:\n",
    "\n",
    "### Recency\n",
    "* Recency 1 = 1352- 2229 days: 124,332\n",
    "* Recency 2 = 838 - 1351 days: 124, 119\n",
    "* Recency 3 = 310 - 837 days: 124,076\n",
    "* Recency 4 = 0 - 309 days: 124,008\n",
    "\n",
    "### Frequency\n",
    "\n",
    "* Frequency 1 = single purchasers: 315,476\n",
    "* Frequency 3 = 2x purchasers: 99,859\n",
    "* Frqeuncy 4 = 3x+ purchasers: 81,200\n",
    "\n",
    "### Monetary Value\n",
    "\n",
    "* Monetary 1 = \\$0.97 - \\$44.97: 124,979\n",
    "* Monetary 2 = \\$44.98 - \\$78.98: 124,151\n",
    "* Monetary 3 = \\$78.99 - \\$143.84: 124,109\n",
    "* Monetary 4 = \\$143.84 - \\$51,496.07: 123,296\n",
    "\n",
    "The largest RFM group was those with score 111, 38,835 customers. These customers haven't made a purchase in 1,352 days or longer, have only purchased once and spent \\$44.97 or less.\n",
    "\n",
    "The ideal score of 444 was given to 28,581 customers. These customers have purchased sometime within the last 309 days, have made 3 or more purchases with the brand and have a lifetime value of \\$143.84 or more."
   ]
  },
  {
   "cell_type": "code",
   "execution_count": 2,
   "metadata": {},
   "outputs": [
    {
     "name": "stdout",
     "output_type": "stream",
     "text": [
      "Requirement already satisfied: watermark in c:\\users\\jrenaud\\appdata\\local\\continuum\\anaconda3\\lib\\site-packages\n",
      "Requirement already satisfied: ipython in c:\\users\\jrenaud\\appdata\\local\\continuum\\anaconda3\\lib\\site-packages (from watermark)\n",
      "Requirement already satisfied: setuptools>=18.5 in c:\\users\\jrenaud\\appdata\\local\\continuum\\anaconda3\\lib\\site-packages (from ipython->watermark)\n",
      "Requirement already satisfied: jedi>=0.10 in c:\\users\\jrenaud\\appdata\\local\\continuum\\anaconda3\\lib\\site-packages (from ipython->watermark)\n",
      "Requirement already satisfied: decorator in c:\\users\\jrenaud\\appdata\\local\\continuum\\anaconda3\\lib\\site-packages (from ipython->watermark)\n",
      "Requirement already satisfied: pickleshare in c:\\users\\jrenaud\\appdata\\local\\continuum\\anaconda3\\lib\\site-packages (from ipython->watermark)\n",
      "Requirement already satisfied: simplegeneric>0.8 in c:\\users\\jrenaud\\appdata\\local\\continuum\\anaconda3\\lib\\site-packages (from ipython->watermark)\n",
      "Requirement already satisfied: traitlets>=4.2 in c:\\users\\jrenaud\\appdata\\local\\continuum\\anaconda3\\lib\\site-packages (from ipython->watermark)\n",
      "Requirement already satisfied: prompt_toolkit<2.0.0,>=1.0.4 in c:\\users\\jrenaud\\appdata\\local\\continuum\\anaconda3\\lib\\site-packages (from ipython->watermark)\n",
      "Requirement already satisfied: pygments in c:\\users\\jrenaud\\appdata\\local\\continuum\\anaconda3\\lib\\site-packages (from ipython->watermark)\n",
      "Requirement already satisfied: colorama in c:\\users\\jrenaud\\appdata\\local\\continuum\\anaconda3\\lib\\site-packages (from ipython->watermark)\n",
      "Requirement already satisfied: ipython_genutils in c:\\users\\jrenaud\\appdata\\local\\continuum\\anaconda3\\lib\\site-packages (from traitlets>=4.2->ipython->watermark)\n",
      "Requirement already satisfied: six in c:\\users\\jrenaud\\appdata\\local\\continuum\\anaconda3\\lib\\site-packages (from traitlets>=4.2->ipython->watermark)\n",
      "Requirement already satisfied: wcwidth in c:\\users\\jrenaud\\appdata\\local\\continuum\\anaconda3\\lib\\site-packages (from prompt_toolkit<2.0.0,>=1.0.4->ipython->watermark)\n"
     ]
    },
    {
     "name": "stderr",
     "output_type": "stream",
     "text": [
      "You are using pip version 9.0.1, however version 9.0.2 is available.\n",
      "You should consider upgrading via the 'python -m pip install --upgrade pip' command.\n"
     ]
    }
   ],
   "source": [
    "import pandas as pd\n",
    "import numpy as np\n",
    "import matplotlib.pyplot as plt\n",
    "\n",
    "!pip install watermark\n",
    "\n",
    "%load_ext watermark"
   ]
  },
  {
   "cell_type": "code",
   "execution_count": 3,
   "metadata": {},
   "outputs": [
    {
     "name": "stdout",
     "output_type": "stream",
     "text": [
      "Julianna Renaud 2018-03-20 10:20:33 \n",
      "\n",
      "CPython 3.6.3\n",
      "IPython 6.1.0\n",
      "\n",
      "numpy 1.13.3\n",
      "pandas 0.20.3\n"
     ]
    }
   ],
   "source": [
    "%watermark -a \"Julianna Renaud\" -d -t -v -p numpy,pandas"
   ]
  },
  {
   "cell_type": "code",
   "execution_count": 5,
   "metadata": {},
   "outputs": [
    {
     "name": "stdout",
     "output_type": "stream",
     "text": [
      "<class 'pandas.core.frame.DataFrame'>\n",
      "RangeIndex: 496535 entries, 0 to 496534\n",
      "Data columns (total 5 columns):\n",
      "Unnamed: 0       496535 non-null int64\n",
      "SubscriberID     496535 non-null float64\n",
      "Purch_Recency    496535 non-null float64\n",
      "Frequency        496535 non-null float64\n",
      "ORDER_VALUE      496535 non-null float64\n",
      "dtypes: float64(4), int64(1)\n",
      "memory usage: 18.9 MB\n",
      "None\n",
      "   Unnamed: 0  SubscriberID  Purch_Recency  Frequency  ORDER_VALUE\n",
      "0           0   213165949.0            2.0        1.0        54.00\n",
      "1           1    35831835.0            2.0        5.0       380.76\n",
      "2           2   125328287.0            2.0        3.0       735.70\n",
      "3           3   213162691.0            2.0        1.0        68.00\n",
      "4           4   213163910.0            2.0        1.0        34.00\n"
     ]
    }
   ],
   "source": [
    "#Import Account Master file\n",
    "df = pd.read_csv('Data Outputs/rfm_df.csv', header=0)\n",
    "\n",
    "#Check the fields for each\n",
    "print(df.info())\n",
    "print(df.head())"
   ]
  },
  {
   "cell_type": "code",
   "execution_count": 6,
   "metadata": {},
   "outputs": [
    {
     "name": "stdout",
     "output_type": "stream",
     "text": [
      "   SubscriberID  Purch_Recency  Frequency  ORDER_VALUE\n",
      "0   213165949.0            2.0        1.0        54.00\n",
      "1    35831835.0            2.0        5.0       380.76\n",
      "2   125328287.0            2.0        3.0       735.70\n",
      "3   213162691.0            2.0        1.0        68.00\n",
      "4   213163910.0            2.0        1.0        34.00\n"
     ]
    }
   ],
   "source": [
    "df = df.drop(['Unnamed: 0'], axis=1)\n",
    "\n",
    "print(df.head())"
   ]
  },
  {
   "cell_type": "code",
   "execution_count": 11,
   "metadata": {
    "collapsed": true
   },
   "outputs": [],
   "source": [
    "quantiles = df.quantile(q=[0.25,0.50,0.75])\n",
    "quantiles = quantiles.to_dict()"
   ]
  },
  {
   "cell_type": "code",
   "execution_count": 12,
   "metadata": {
    "collapsed": true
   },
   "outputs": [],
   "source": [
    "segmented_rfm = df"
   ]
  },
  {
   "cell_type": "code",
   "execution_count": 15,
   "metadata": {
    "collapsed": true
   },
   "outputs": [],
   "source": [
    "def RScore(x,p,d):\n",
    "    if x <= d[p][0.25]:\n",
    "        return 4\n",
    "    elif x <= d[p][0.50]:\n",
    "        return 3\n",
    "    elif x <= d[p][0.75]: \n",
    "        return 2\n",
    "    else:\n",
    "        return 1\n",
    "    \n",
    "def FScore(x,p,d):\n",
    "    if x <= d[p][0.25]:\n",
    "        return 1\n",
    "    elif x <= d[p][0.50]:\n",
    "        return 2\n",
    "    elif x <= d[p][0.75]: \n",
    "        return 3\n",
    "    else:\n",
    "        return 4\n",
    "\n",
    "def MScore(x,p,d):\n",
    "    if x <= d[p][0.25]:\n",
    "        return 1\n",
    "    elif x <= d[p][0.50]:\n",
    "        return 2\n",
    "    elif x <= d[p][0.75]: \n",
    "        return 3\n",
    "    else:\n",
    "        return 4"
   ]
  },
  {
   "cell_type": "code",
   "execution_count": 17,
   "metadata": {},
   "outputs": [
    {
     "data": {
      "text/html": [
       "<div>\n",
       "<style>\n",
       "    .dataframe thead tr:only-child th {\n",
       "        text-align: right;\n",
       "    }\n",
       "\n",
       "    .dataframe thead th {\n",
       "        text-align: left;\n",
       "    }\n",
       "\n",
       "    .dataframe tbody tr th {\n",
       "        vertical-align: top;\n",
       "    }\n",
       "</style>\n",
       "<table border=\"1\" class=\"dataframe\">\n",
       "  <thead>\n",
       "    <tr style=\"text-align: right;\">\n",
       "      <th></th>\n",
       "      <th>SubscriberID</th>\n",
       "      <th>Purch_Recency</th>\n",
       "      <th>Frequency</th>\n",
       "      <th>ORDER_VALUE</th>\n",
       "      <th>r_quartile</th>\n",
       "      <th>f_quartile</th>\n",
       "      <th>m_quartile</th>\n",
       "    </tr>\n",
       "  </thead>\n",
       "  <tbody>\n",
       "    <tr>\n",
       "      <th>496530</th>\n",
       "      <td>43885810.0</td>\n",
       "      <td>2223.0</td>\n",
       "      <td>1.0</td>\n",
       "      <td>69.96</td>\n",
       "      <td>1</td>\n",
       "      <td>1</td>\n",
       "      <td>2</td>\n",
       "    </tr>\n",
       "    <tr>\n",
       "      <th>496531</th>\n",
       "      <td>101236582.0</td>\n",
       "      <td>2224.0</td>\n",
       "      <td>1.0</td>\n",
       "      <td>44.97</td>\n",
       "      <td>1</td>\n",
       "      <td>1</td>\n",
       "      <td>1</td>\n",
       "    </tr>\n",
       "    <tr>\n",
       "      <th>496532</th>\n",
       "      <td>168266368.0</td>\n",
       "      <td>2229.0</td>\n",
       "      <td>1.0</td>\n",
       "      <td>126.91</td>\n",
       "      <td>1</td>\n",
       "      <td>1</td>\n",
       "      <td>3</td>\n",
       "    </tr>\n",
       "    <tr>\n",
       "      <th>496533</th>\n",
       "      <td>36041371.0</td>\n",
       "      <td>1813.0</td>\n",
       "      <td>1.0</td>\n",
       "      <td>37.94</td>\n",
       "      <td>1</td>\n",
       "      <td>1</td>\n",
       "      <td>1</td>\n",
       "    </tr>\n",
       "    <tr>\n",
       "      <th>496534</th>\n",
       "      <td>38527507.0</td>\n",
       "      <td>1823.0</td>\n",
       "      <td>1.0</td>\n",
       "      <td>99.97</td>\n",
       "      <td>1</td>\n",
       "      <td>1</td>\n",
       "      <td>3</td>\n",
       "    </tr>\n",
       "  </tbody>\n",
       "</table>\n",
       "</div>"
      ],
      "text/plain": [
       "        SubscriberID  Purch_Recency  Frequency  ORDER_VALUE  r_quartile  \\\n",
       "496530    43885810.0         2223.0        1.0        69.96           1   \n",
       "496531   101236582.0         2224.0        1.0        44.97           1   \n",
       "496532   168266368.0         2229.0        1.0       126.91           1   \n",
       "496533    36041371.0         1813.0        1.0        37.94           1   \n",
       "496534    38527507.0         1823.0        1.0        99.97           1   \n",
       "\n",
       "        f_quartile  m_quartile  \n",
       "496530           1           2  \n",
       "496531           1           1  \n",
       "496532           1           3  \n",
       "496533           1           1  \n",
       "496534           1           3  "
      ]
     },
     "execution_count": 17,
     "metadata": {},
     "output_type": "execute_result"
    }
   ],
   "source": [
    "segmented_rfm['r_quartile'] = segmented_rfm['Purch_Recency'].apply(RScore, args=('Purch_Recency',quantiles,))\n",
    "segmented_rfm['f_quartile'] = segmented_rfm['Frequency'].apply(FScore, args=('Frequency',quantiles,))\n",
    "segmented_rfm['m_quartile'] = segmented_rfm['ORDER_VALUE'].apply(MScore, args=('ORDER_VALUE',quantiles,))\n",
    "segmented_rfm.tail()"
   ]
  },
  {
   "cell_type": "code",
   "execution_count": 37,
   "metadata": {},
   "outputs": [
    {
     "name": "stdout",
     "output_type": "stream",
     "text": [
      "Recency Counts:\n",
      "\n",
      "4    124332\n",
      "2    124119\n",
      "1    124076\n",
      "3    124008\n",
      "Name: r_quartile, dtype: int64\n"
     ]
    }
   ],
   "source": [
    "print(\"Recency Counts:\\n\")\n",
    "print(segmented_rfm.r_quartile.value_counts())"
   ]
  },
  {
   "cell_type": "code",
   "execution_count": 36,
   "metadata": {},
   "outputs": [
    {
     "name": "stdout",
     "output_type": "stream",
     "text": [
      "Frequency Counts:\n",
      "\n",
      "1    315476\n",
      "3     99859\n",
      "4     81200\n",
      "Name: f_quartile, dtype: int64\n"
     ]
    }
   ],
   "source": [
    "print(\"Frequency Counts:\\n\")\n",
    "print(segmented_rfm.f_quartile.value_counts())"
   ]
  },
  {
   "cell_type": "code",
   "execution_count": 38,
   "metadata": {},
   "outputs": [
    {
     "name": "stdout",
     "output_type": "stream",
     "text": [
      "Monetary Value Counts:\n",
      "\n",
      "1    124979\n",
      "3    124151\n",
      "4    124109\n",
      "2    123296\n",
      "Name: m_quartile, dtype: int64\n"
     ]
    }
   ],
   "source": [
    "print(\"Monetary Value Counts:\\n\")\n",
    "print(segmented_rfm.m_quartile.value_counts())"
   ]
  },
  {
   "cell_type": "code",
   "execution_count": 19,
   "metadata": {},
   "outputs": [
    {
     "name": "stdout",
     "output_type": "stream",
     "text": [
      "Recency Score 1: 1352.0 - 2229.0 days\n",
      "Recency Score 2: 838.0 - 1351.0 days\n",
      "Recency Score 3: 310.0 - 837.0 days\n",
      "Recency Score 4: 0.0 - 309.0 days\n"
     ]
    }
   ],
   "source": [
    "print('Recency Score 1:',segmented_rfm.loc[segmented_rfm['r_quartile'] == 1, 'Purch_Recency'].min(), '-',segmented_rfm.loc[segmented_rfm['r_quartile'] == 1, 'Purch_Recency'].max(), 'days')\n",
    "print('Recency Score 2:',segmented_rfm.loc[segmented_rfm['r_quartile'] == 2, 'Purch_Recency'].min(),'-',segmented_rfm.loc[segmented_rfm['r_quartile'] == 2, 'Purch_Recency'].max(), 'days')\n",
    "print('Recency Score 3:',segmented_rfm.loc[segmented_rfm['r_quartile'] == 3, 'Purch_Recency'].min(),'-',segmented_rfm.loc[segmented_rfm['r_quartile'] == 3, 'Purch_Recency'].max(), 'days')\n",
    "print('Recency Score 4:',segmented_rfm.loc[segmented_rfm['r_quartile'] == 4, 'Purch_Recency'].min(), '-',segmented_rfm.loc[segmented_rfm['r_quartile'] == 4, 'Purch_Recency'].max(), 'days')"
   ]
  },
  {
   "cell_type": "code",
   "execution_count": 21,
   "metadata": {},
   "outputs": [
    {
     "name": "stdout",
     "output_type": "stream",
     "text": [
      "Frequency Score 1: 1.0 - 1.0 lifetime orders\n",
      "Frequency Score 2: nan - nan lifetime orders\n",
      "Frequency Score 3: 2.0 - 2.0 lifetime orders\n",
      "Frequency Score 4: 3.0 - 216.0 lifetime orders\n"
     ]
    }
   ],
   "source": [
    "print('Frequency Score 1:',segmented_rfm.loc[segmented_rfm['f_quartile'] == 1, 'Frequency'].min(), '-',segmented_rfm.loc[segmented_rfm['f_quartile'] == 1, 'Frequency'].max(), 'lifetime orders')\n",
    "print('Frequency Score 2:',segmented_rfm.loc[segmented_rfm['f_quartile'] == 2, 'Frequency'].min(),'-',segmented_rfm.loc[segmented_rfm['f_quartile'] == 2, 'Frequency'].max(), 'lifetime orders')\n",
    "print('Frequency Score 3:',segmented_rfm.loc[segmented_rfm['f_quartile'] == 3, 'Frequency'].min(),'-',segmented_rfm.loc[segmented_rfm['f_quartile'] == 3, 'Frequency'].max(), 'lifetime orders')\n",
    "print('Frequency Score 4:',segmented_rfm.loc[segmented_rfm['f_quartile'] == 4, 'Frequency'].min(), '-',segmented_rfm.loc[segmented_rfm['f_quartile'] == 4, 'Frequency'].max(), 'lifetime orders')"
   ]
  },
  {
   "cell_type": "code",
   "execution_count": 22,
   "metadata": {},
   "outputs": [
    {
     "name": "stdout",
     "output_type": "stream",
     "text": [
      "Monetary Value Score 1: $0.97 - $44.97\n",
      "Monetary Value Score 2: $44.98 - $78.98\n",
      "Monetary Value Score 3: $78.99 - $143.84\n",
      "Monetary Value Score 4: $143.84 - $51,496.07\n"
     ]
    }
   ],
   "source": [
    "print('Monetary Value Score 1:','${:,.2f}'.format(segmented_rfm.loc[segmented_rfm['m_quartile'] == 1,\n",
    "                                                                 'ORDER_VALUE'].min()), '-','${:,.2f}'.format(segmented_rfm.loc[segmented_rfm['m_quartile'] == 1, 'ORDER_VALUE'].max()))\n",
    "print('Monetary Value Score 2:','${:,.2f}'.format(segmented_rfm.loc[segmented_rfm['m_quartile'] == 2, \n",
    "                                                                 'ORDER_VALUE'].min()),'-','${:,.2f}'.format(segmented_rfm.loc[segmented_rfm['m_quartile'] == 2, 'ORDER_VALUE'].max()))\n",
    "print('Monetary Value Score 3:','${:,.2f}'.format(segmented_rfm.loc[segmented_rfm['m_quartile'] == 3, \n",
    "                                                                 'ORDER_VALUE'].min()),'-','${:,.2f}'.format(segmented_rfm.loc[segmented_rfm['m_quartile'] == 3, 'ORDER_VALUE'].max()))\n",
    "print('Monetary Value Score 4:','${:,.2f}'.format(segmented_rfm.loc[segmented_rfm['m_quartile'] == 4, \n",
    "                                                                 'ORDER_VALUE'].min()), '-','${:,.2f}'.format(segmented_rfm.loc[segmented_rfm['m_quartile'] == 4, 'ORDER_VALUE'].max()))"
   ]
  },
  {
   "cell_type": "code",
   "execution_count": 23,
   "metadata": {},
   "outputs": [
    {
     "data": {
      "text/html": [
       "<div>\n",
       "<style>\n",
       "    .dataframe thead tr:only-child th {\n",
       "        text-align: right;\n",
       "    }\n",
       "\n",
       "    .dataframe thead th {\n",
       "        text-align: left;\n",
       "    }\n",
       "\n",
       "    .dataframe tbody tr th {\n",
       "        vertical-align: top;\n",
       "    }\n",
       "</style>\n",
       "<table border=\"1\" class=\"dataframe\">\n",
       "  <thead>\n",
       "    <tr style=\"text-align: right;\">\n",
       "      <th></th>\n",
       "      <th>SubscriberID</th>\n",
       "      <th>Purch_Recency</th>\n",
       "      <th>Frequency</th>\n",
       "      <th>ORDER_VALUE</th>\n",
       "      <th>r_quartile</th>\n",
       "      <th>f_quartile</th>\n",
       "      <th>m_quartile</th>\n",
       "      <th>RFMScore</th>\n",
       "    </tr>\n",
       "  </thead>\n",
       "  <tbody>\n",
       "    <tr>\n",
       "      <th>0</th>\n",
       "      <td>213165949.0</td>\n",
       "      <td>2.0</td>\n",
       "      <td>1.0</td>\n",
       "      <td>54.00</td>\n",
       "      <td>4</td>\n",
       "      <td>1</td>\n",
       "      <td>2</td>\n",
       "      <td>412</td>\n",
       "    </tr>\n",
       "    <tr>\n",
       "      <th>1</th>\n",
       "      <td>35831835.0</td>\n",
       "      <td>2.0</td>\n",
       "      <td>5.0</td>\n",
       "      <td>380.76</td>\n",
       "      <td>4</td>\n",
       "      <td>4</td>\n",
       "      <td>4</td>\n",
       "      <td>444</td>\n",
       "    </tr>\n",
       "    <tr>\n",
       "      <th>2</th>\n",
       "      <td>125328287.0</td>\n",
       "      <td>2.0</td>\n",
       "      <td>3.0</td>\n",
       "      <td>735.70</td>\n",
       "      <td>4</td>\n",
       "      <td>4</td>\n",
       "      <td>4</td>\n",
       "      <td>444</td>\n",
       "    </tr>\n",
       "    <tr>\n",
       "      <th>3</th>\n",
       "      <td>213162691.0</td>\n",
       "      <td>2.0</td>\n",
       "      <td>1.0</td>\n",
       "      <td>68.00</td>\n",
       "      <td>4</td>\n",
       "      <td>1</td>\n",
       "      <td>2</td>\n",
       "      <td>412</td>\n",
       "    </tr>\n",
       "    <tr>\n",
       "      <th>4</th>\n",
       "      <td>213163910.0</td>\n",
       "      <td>2.0</td>\n",
       "      <td>1.0</td>\n",
       "      <td>34.00</td>\n",
       "      <td>4</td>\n",
       "      <td>1</td>\n",
       "      <td>1</td>\n",
       "      <td>411</td>\n",
       "    </tr>\n",
       "  </tbody>\n",
       "</table>\n",
       "</div>"
      ],
      "text/plain": [
       "   SubscriberID  Purch_Recency  Frequency  ORDER_VALUE  r_quartile  \\\n",
       "0   213165949.0            2.0        1.0        54.00           4   \n",
       "1    35831835.0            2.0        5.0       380.76           4   \n",
       "2   125328287.0            2.0        3.0       735.70           4   \n",
       "3   213162691.0            2.0        1.0        68.00           4   \n",
       "4   213163910.0            2.0        1.0        34.00           4   \n",
       "\n",
       "   f_quartile  m_quartile RFMScore  \n",
       "0           1           2      412  \n",
       "1           4           4      444  \n",
       "2           4           4      444  \n",
       "3           1           2      412  \n",
       "4           1           1      411  "
      ]
     },
     "execution_count": 23,
     "metadata": {},
     "output_type": "execute_result"
    }
   ],
   "source": [
    "segmented_rfm['RFMScore'] = segmented_rfm.r_quartile.map(str) + segmented_rfm.f_quartile.map(str) + segmented_rfm.m_quartile.map(str)\n",
    "segmented_rfm.head()"
   ]
  },
  {
   "cell_type": "code",
   "execution_count": 32,
   "metadata": {},
   "outputs": [
    {
     "data": {
      "image/png": "[encoded data removed]",
      "text/plain": [
       "<matplotlib.figure.Figure at 0x217b3033da0>"
      ]
     },
     "metadata": {},
     "output_type": "display_data"
    }
   ],
   "source": [
    "counts = pd.value_counts(segmented_rfm['RFMScore'].values, sort=True)\n",
    "_ = plt.figure(figsize=(20,10))\n",
    "_ = counts.plot.barh()\n"
   ]
  },
  {
   "cell_type": "code",
   "execution_count": null,
   "metadata": {
    "collapsed": true
   },
   "outputs": [],
   "source": []
  }
 ],
 "metadata": {
  "kernelspec": {
   "display_name": "Python 3",
   "language": "python",
   "name": "python3"
  },
  "language_info": {
   "codemirror_mode": {
    "name": "ipython",
    "version": 3
   },
   "file_extension": ".py",
   "mimetype": "text/x-python",
   "name": "python",
   "nbconvert_exporter": "python",
   "pygments_lexer": "ipython3",
   "version": "3.6.3"
  }
 },
 "nbformat": 4,
 "nbformat_minor": 2
}
